{
 "cells": [
  {
   "cell_type": "markdown",
   "id": "26538dcd-0c03-4379-958b-da087752c865",
   "metadata": {
    "tags": []
   },
   "source": [
    "# Jupyter Notebookの使い方\n",
    "本ハンズオンではJupyterNotebookという実行環境を使用します"
   ]
  },
  {
   "cell_type": "markdown",
   "id": "8ef519d6-f3e6-4399-8765-afc1ea9de2c1",
   "metadata": {},
   "source": [
    "## 基本\n",
    "コードはセルごとに記述・実行することができます  \n",
    "実行は上の▶︎ボタンを押すか`Shift&Enter`です"
   ]
  },
  {
   "cell_type": "code",
   "execution_count": null,
   "id": "e684f533-9118-47e1-8cd2-547f5d4eb29f",
   "metadata": {},
   "outputs": [],
   "source": [
    "a = 1"
   ]
  },
  {
   "cell_type": "code",
   "execution_count": null,
   "id": "99215d4f-bf41-4b92-8ff4-f15a03e33847",
   "metadata": {},
   "outputs": [],
   "source": [
    "a"
   ]
  },
  {
   "cell_type": "code",
   "execution_count": null,
   "id": "ebae7ff9-877b-4316-8567-c42812538f3a",
   "metadata": {},
   "outputs": [],
   "source": [
    "a += 1\n"
   ]
  },
  {
   "cell_type": "code",
   "execution_count": null,
   "id": "e9afab7b-0cf8-4dbe-b38a-b6ffd797723e",
   "metadata": {},
   "outputs": [],
   "source": [
    "print(a)"
   ]
  },
  {
   "cell_type": "code",
   "execution_count": null,
   "id": "e06b8e5d-6c0d-4aaf-b668-253b1c351673",
   "metadata": {},
   "outputs": [],
   "source": [
    "# 関数をここで記述することもできます\n",
    "def func(a):\n",
    "    return a + 1"
   ]
  },
  {
   "cell_type": "code",
   "execution_count": null,
   "id": "9f3f2d52-85b6-4750-804e-e7c3a10095fa",
   "metadata": {},
   "outputs": [],
   "source": [
    "func(1)"
   ]
  },
  {
   "cell_type": "code",
   "execution_count": null,
   "id": "35cdac56-67fd-4f71-9109-34ddcf557fb2",
   "metadata": {},
   "outputs": [],
   "source": [
    "# ライブラリのimportもここに直接書きます\n",
    "import pandas as pd"
   ]
  },
  {
   "cell_type": "code",
   "execution_count": null,
   "id": "564a8af1-bd9a-42ae-9377-63a1f4c08b0f",
   "metadata": {},
   "outputs": [],
   "source": [
    "pd"
   ]
  },
  {
   "cell_type": "code",
   "execution_count": null,
   "id": "a5000f60-18dc-405f-9c27-8c1b5d0d92d6",
   "metadata": {},
   "outputs": [],
   "source": [
    "# グラフを直接出力することができます\n",
    "\n",
    "import matplotlib.pyplot as plt\n",
    "plt.plot([1, 2, 3, 4])"
   ]
  },
  {
   "cell_type": "markdown",
   "id": "4fcc3cf0-d3fe-451a-9246-4945a4cd4f94",
   "metadata": {},
   "source": [
    "## 任意のセルを選択し順不同で実行することができます\n",
    "本講義では上から順に実行をすることを想定し資料を作成しています。  \n",
    "<<重要>>この機能を使って試しに実行するなどしで、正常に動作できなくなってしまった場合は  \n",
    "上にある`Restart Kernel`ボタンを押せばNotebookを初期状態に戻すことができます"
   ]
  },
  {
   "cell_type": "code",
   "execution_count": null,
   "id": "a966058b-1e84-4e9b-bbb9-5990fd44afb3",
   "metadata": {},
   "outputs": [],
   "source": [
    "a = 1"
   ]
  },
  {
   "cell_type": "code",
   "execution_count": null,
   "id": "57412c71-a5bc-4a87-927e-6bd9312f5052",
   "metadata": {},
   "outputs": [],
   "source": [
    "# このセルを複数回実行すると`a`の値がどんどん増えていく\n",
    "a += 1\n",
    "a"
   ]
  },
  {
   "cell_type": "markdown",
   "id": "f23a9b48-72f6-4c9d-aca0-8d4ba586eee8",
   "metadata": {},
   "source": [
    "## GPUの解放\n",
    "本講義ではモデルの学習にGPUを使用します  \n",
    "notebookごとにGPUを占有するので、使い終わったらシャットダウン(Kernelタブ→Shut Down Kernek)しGPUを解放する必要があります  \n",
    "`nvidia-smi`コマンドでGPUの状況を確認できます  "
   ]
  },
  {
   "cell_type": "code",
   "execution_count": null,
   "id": "8ce37c95-9ed7-4cfb-b6de-f95b2cda04d1",
   "metadata": {},
   "outputs": [],
   "source": [
    "# `!`をつけるとシェルコマンドを実行できます\n",
    "!nvidia-smi"
   ]
  },
  {
   "cell_type": "code",
   "execution_count": null,
   "id": "52370577-cef4-4a18-8d51-35ccd59e3d56",
   "metadata": {},
   "outputs": [],
   "source": [
    "# GPUを使用しているPIDをkillすることでGPUを解放することもできます\n",
    "!kill {ID}"
   ]
  },
  {
   "cell_type": "code",
   "execution_count": null,
   "id": "ffcf2be0-3306-44f2-bc6c-a555df217e81",
   "metadata": {},
   "outputs": [],
   "source": []
  }
 ],
 "metadata": {
  "environment": {
   "kernel": "python3",
   "name": "common-cu110.m108",
   "type": "gcloud",
   "uri": "gcr.io/deeplearning-platform-release/base-cu110:m108"
  },
  "kernelspec": {
   "display_name": "Python 3",
   "language": "python",
   "name": "python3"
  },
  "language_info": {
   "codemirror_mode": {
    "name": "ipython",
    "version": 3
   },
   "file_extension": ".py",
   "mimetype": "text/x-python",
   "name": "python",
   "nbconvert_exporter": "python",
   "pygments_lexer": "ipython3",
   "version": "3.7.12"
  }
 },
 "nbformat": 4,
 "nbformat_minor": 5
}
