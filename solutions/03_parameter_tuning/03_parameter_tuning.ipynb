{
 "cells": [
  {
   "cell_type": "markdown",
   "metadata": {},
   "source": [
    "## ハイパーパラメータチューニング\n",
    "\n",
    "ハイパーパラメータチューニングは学習を何度も繰り返す必要があり、非常に時間がかかる作業になります。  \n",
    "仮に1回の学習ループが3日かかるとしたら、パラメータを数回変えて試してみるだけで非常に時間がかかってしまいます。\n",
    "\n",
    "今回はその作業をお金の力で解決してしまう方法を学習します。\n",
    "\n",
    "## コードのモジュール化\n",
    "\n",
    "まず、コードを何度も実行するためにはjupyter上で処理するのはあまり向かないため、scriptに落とし込みます。  \n",
    "コードのコアの部分を移動したコードが`mfashion_keras/model.py`にあります。  \n",
    "そして、jobのkickerとなるコードを`mfashion_keras/task.py`に記載してあります。  \n",
    "試しに実行してみましょう"
   ]
  },
  {
   "cell_type": "code",
   "execution_count": 1,
   "metadata": {},
   "outputs": [
    {
     "name": "stdout",
     "output_type": "stream",
     "text": [
      "Requirement already satisfied: cloudml-hypertune in /opt/conda/lib/python3.7/site-packages (0.1.0.dev6)\n"
     ]
    }
   ],
   "source": [
    "# このハンズオンで必要なライブラリのインストール\n",
    "!pip install cloudml-hypertune"
   ]
  },
  {
   "cell_type": "code",
   "execution_count": 2,
   "metadata": {},
   "outputs": [
    {
     "name": "stdout",
     "output_type": "stream",
     "text": [
      "output_dir: ./output/\n",
      "2022-04-27 11:10:13.820928: I tensorflow/stream_executor/cuda/cuda_gpu_executor.cc:936] successful NUMA node read from SysFS had negative value (-1), but there must be at least one NUMA node, so returning NUMA node zero\n",
      "2022-04-27 11:10:13.838518: I tensorflow/stream_executor/cuda/cuda_gpu_executor.cc:936] successful NUMA node read from SysFS had negative value (-1), but there must be at least one NUMA node, so returning NUMA node zero\n",
      "2022-04-27 11:10:13.839209: I tensorflow/stream_executor/cuda/cuda_gpu_executor.cc:936] successful NUMA node read from SysFS had negative value (-1), but there must be at least one NUMA node, so returning NUMA node zero\n",
      "2022-04-27 11:10:13.840225: I tensorflow/core/platform/cpu_feature_guard.cc:151] This TensorFlow binary is optimized with oneAPI Deep Neural Network Library (oneDNN) to use the following CPU instructions in performance-critical operations:  AVX2 FMA\n",
      "To enable them in other operations, rebuild TensorFlow with the appropriate compiler flags.\n",
      "2022-04-27 11:10:13.840919: I tensorflow/stream_executor/cuda/cuda_gpu_executor.cc:936] successful NUMA node read from SysFS had negative value (-1), but there must be at least one NUMA node, so returning NUMA node zero\n",
      "2022-04-27 11:10:13.841625: I tensorflow/stream_executor/cuda/cuda_gpu_executor.cc:936] successful NUMA node read from SysFS had negative value (-1), but there must be at least one NUMA node, so returning NUMA node zero\n",
      "2022-04-27 11:10:13.842519: I tensorflow/stream_executor/cuda/cuda_gpu_executor.cc:936] successful NUMA node read from SysFS had negative value (-1), but there must be at least one NUMA node, so returning NUMA node zero\n",
      "2022-04-27 11:10:14.342454: I tensorflow/stream_executor/cuda/cuda_gpu_executor.cc:936] successful NUMA node read from SysFS had negative value (-1), but there must be at least one NUMA node, so returning NUMA node zero\n",
      "2022-04-27 11:10:14.343101: I tensorflow/stream_executor/cuda/cuda_gpu_executor.cc:936] successful NUMA node read from SysFS had negative value (-1), but there must be at least one NUMA node, so returning NUMA node zero\n",
      "2022-04-27 11:10:14.343676: I tensorflow/stream_executor/cuda/cuda_gpu_executor.cc:936] successful NUMA node read from SysFS had negative value (-1), but there must be at least one NUMA node, so returning NUMA node zero\n",
      "2022-04-27 11:10:14.344218: I tensorflow/core/common_runtime/gpu/gpu_device.cc:1525] Created device /job:localhost/replica:0/task:0/device:GPU:0 with 13823 MB memory:  -> device: 0, name: Tesla T4, pci bus id: 0000:00:04.0, compute capability: 7.5\n",
      "2022-04-27 11:10:14.631493: W tensorflow/core/framework/cpu_allocator_impl.cc:82] Allocation of 169344000 exceeds 10% of free system memory.\n",
      "2022-04-27 11:10:14.831985: W tensorflow/core/framework/cpu_allocator_impl.cc:82] Allocation of 169344000 exceeds 10% of free system memory.\n",
      "Epoch 1/10000\n",
      "2022-04-27 11:10:16.308393: I tensorflow/stream_executor/cuda/cuda_dnn.cc:368] Loaded cuDNN version 8200\n",
      "844/844 [==============================] - 7s 5ms/step - loss: 0.5555 - categorical_accuracy: 0.7985 - categorical_crossentropy: 0.5555 - val_loss: 0.4020 - val_categorical_accuracy: 0.8500 - val_categorical_crossentropy: 0.4020\n",
      "Epoch 2/10000\n",
      "844/844 [==============================] - 4s 4ms/step - loss: 0.4296 - categorical_accuracy: 0.8427 - categorical_crossentropy: 0.4296 - val_loss: 0.3165 - val_categorical_accuracy: 0.8778 - val_categorical_crossentropy: 0.3165\n",
      "Epoch 3/10000\n",
      "844/844 [==============================] - 4s 4ms/step - loss: 0.3861 - categorical_accuracy: 0.8571 - categorical_crossentropy: 0.3861 - val_loss: 0.3163 - val_categorical_accuracy: 0.8840 - val_categorical_crossentropy: 0.3163\n",
      "Epoch 4/10000\n",
      "844/844 [==============================] - 4s 4ms/step - loss: 0.3619 - categorical_accuracy: 0.8662 - categorical_crossentropy: 0.3619 - val_loss: 0.3276 - val_categorical_accuracy: 0.8767 - val_categorical_crossentropy: 0.3276\n",
      "Epoch 5/10000\n",
      "844/844 [==============================] - 4s 4ms/step - loss: 0.3489 - categorical_accuracy: 0.8712 - categorical_crossentropy: 0.3489 - val_loss: 0.2720 - val_categorical_accuracy: 0.8967 - val_categorical_crossentropy: 0.2720\n",
      "Epoch 6/10000\n",
      "844/844 [==============================] - 4s 5ms/step - loss: 0.3340 - categorical_accuracy: 0.8762 - categorical_crossentropy: 0.3340 - val_loss: 0.2841 - val_categorical_accuracy: 0.8923 - val_categorical_crossentropy: 0.2841\n",
      "Epoch 7/10000\n",
      "844/844 [==============================] - 4s 5ms/step - loss: 0.3265 - categorical_accuracy: 0.8793 - categorical_crossentropy: 0.3265 - val_loss: 0.2714 - val_categorical_accuracy: 0.8960 - val_categorical_crossentropy: 0.2714\n",
      "Epoch 8/10000\n",
      "844/844 [==============================] - 4s 5ms/step - loss: 0.3185 - categorical_accuracy: 0.8832 - categorical_crossentropy: 0.3185 - val_loss: 0.2746 - val_categorical_accuracy: 0.8992 - val_categorical_crossentropy: 0.2746\n",
      "Epoch 9/10000\n",
      "844/844 [==============================] - 4s 4ms/step - loss: 0.3058 - categorical_accuracy: 0.8858 - categorical_crossentropy: 0.3058 - val_loss: 0.2616 - val_categorical_accuracy: 0.9023 - val_categorical_crossentropy: 0.2616\n",
      "Epoch 10/10000\n",
      "844/844 [==============================] - 4s 4ms/step - loss: 0.3004 - categorical_accuracy: 0.8890 - categorical_crossentropy: 0.3004 - val_loss: 0.2545 - val_categorical_accuracy: 0.9042 - val_categorical_crossentropy: 0.2545\n",
      "Epoch 11/10000\n",
      "844/844 [==============================] - 4s 4ms/step - loss: 0.2976 - categorical_accuracy: 0.8901 - categorical_crossentropy: 0.2976 - val_loss: 0.2521 - val_categorical_accuracy: 0.9068 - val_categorical_crossentropy: 0.2521\n",
      "Epoch 12/10000\n",
      "844/844 [==============================] - 4s 5ms/step - loss: 0.2922 - categorical_accuracy: 0.8925 - categorical_crossentropy: 0.2922 - val_loss: 0.2550 - val_categorical_accuracy: 0.9067 - val_categorical_crossentropy: 0.2550\n",
      "Epoch 13/10000\n",
      "844/844 [==============================] - 4s 4ms/step - loss: 0.2861 - categorical_accuracy: 0.8932 - categorical_crossentropy: 0.2861 - val_loss: 0.2569 - val_categorical_accuracy: 0.9030 - val_categorical_crossentropy: 0.2569\n",
      "Epoch 14/10000\n",
      "844/844 [==============================] - 4s 5ms/step - loss: 0.2792 - categorical_accuracy: 0.8948 - categorical_crossentropy: 0.2792 - val_loss: 0.2512 - val_categorical_accuracy: 0.9033 - val_categorical_crossentropy: 0.2512\n",
      "Epoch 15/10000\n",
      "844/844 [==============================] - 4s 4ms/step - loss: 0.2822 - categorical_accuracy: 0.8960 - categorical_crossentropy: 0.2822 - val_loss: 0.2498 - val_categorical_accuracy: 0.9080 - val_categorical_crossentropy: 0.2498\n",
      "Epoch 16/10000\n",
      "844/844 [==============================] - 4s 4ms/step - loss: 0.2747 - categorical_accuracy: 0.8972 - categorical_crossentropy: 0.2747 - val_loss: 0.2500 - val_categorical_accuracy: 0.9073 - val_categorical_crossentropy: 0.2500\n",
      "Epoch 17/10000\n",
      "844/844 [==============================] - 4s 4ms/step - loss: 0.2717 - categorical_accuracy: 0.8993 - categorical_crossentropy: 0.2717 - val_loss: 0.2363 - val_categorical_accuracy: 0.9130 - val_categorical_crossentropy: 0.2363\n",
      "Epoch 18/10000\n",
      "844/844 [==============================] - 4s 4ms/step - loss: 0.2688 - categorical_accuracy: 0.8998 - categorical_crossentropy: 0.2688 - val_loss: 0.2439 - val_categorical_accuracy: 0.9095 - val_categorical_crossentropy: 0.2439\n",
      "Epoch 19/10000\n",
      "844/844 [==============================] - 4s 4ms/step - loss: 0.2644 - categorical_accuracy: 0.9031 - categorical_crossentropy: 0.2644 - val_loss: 0.2464 - val_categorical_accuracy: 0.9085 - val_categorical_crossentropy: 0.2464\n",
      "Epoch 20/10000\n",
      "844/844 [==============================] - 4s 4ms/step - loss: 0.2629 - categorical_accuracy: 0.9008 - categorical_crossentropy: 0.2629 - val_loss: 0.2455 - val_categorical_accuracy: 0.9092 - val_categorical_crossentropy: 0.2455\n",
      "Epoch 20: early stopping\n",
      "2022-04-27 11:11:34.627682: W tensorflow/python/util/util.cc:368] Sets are not currently considered sequences, but this may change in the future, so consider avoiding using them.\n"
     ]
    }
   ],
   "source": [
    "!python3 -m mfashion_keras.task --output_dir=./output --model=cnn --batch_size=64 --batch_norm"
   ]
  },
  {
   "cell_type": "markdown",
   "metadata": {},
   "source": [
    "## gcloudコマンドを用いたVertex AIでのtraining実行\n",
    "\n",
    "下記のコマンドをgcloudのVertex AI経由で実行することで、Vertex AI内のリソースを使ってtrainingを実行することができます。"
   ]
  },
  {
   "cell_type": "code",
   "execution_count": 3,
   "metadata": {},
   "outputs": [],
   "source": [
    "## 書き換える\n",
    "USER = \"<<username>>\"\n",
    "\n",
    "## 必要に応じて書き換える\n",
    "MODEL_TYPE = \"cnn\"\n",
    "LEARNING_RATE = 0.01\n",
    "BATCH_SIZE = 64\n",
    "TRAIN_STEPS = 1000\n",
    "\n",
    "## 書き換えなくて良い (出力先を変えたい場合はOUTPUT_DIRを変更)\n",
    "BUCKET = \"mixi-ml-handson-2022\"\n",
    "REGION = \"asia-northeast1\"\n",
    "OUTPUT_DIR = \"gs://\" + BUCKET + \"/\" + USER + \"/mfashion/trained_\" + MODEL_TYPE"
   ]
  },
  {
   "cell_type": "code",
   "execution_count": null,
   "metadata": {
    "tags": []
   },
   "outputs": [],
   "source": [
    "%%bash -s \"$USER\" \"$BUCKET\" \"$REGION\" \"$MODEL_TYPE\" \"$LEARNING_RATE\" \"$BATCH_SIZE\" \"$TRAIN_STEPS\" \"$OUTPUT_DIR\"\n",
    "\n",
    "DATE=`date +%Y%m%d_%H%M%S`\n",
    "DISPLAY_NAME=mfashion_$4_$1_$DATE\n",
    "\n",
    "echo $8\n",
    "echo ${DISPLAY_NAME}\n",
    "\n",
    "gcloud ai custom-jobs create \\\n",
    "  --region=$3 \\\n",
    "  --display-name=${DISPLAY_NAME} \\\n",
    "  --args=\"--output_dir\",$8,\"--train_steps\",$7,\"--model\",$4,\\\n",
    "\"--learning_rate\",$5,\"--batch_size\",$6 \\\n",
    "  --worker-pool-spec=machine-type=n1-standard-4,replica-count=1,accelerator-type=NVIDIA_TESLA_T4,\\\n",
    "executor-image-uri=asia-docker.pkg.dev/vertex-ai/training/tf-gpu.2-8:latest,local-package-path=./mfashion_keras,python-module=task\n"
   ]
  },
  {
   "cell_type": "markdown",
   "metadata": {},
   "source": [
    "上記のコードの実行には数分の時間がかかります。"
   ]
  },
  {
   "cell_type": "markdown",
   "metadata": {},
   "source": [
    "実行が確認できたら、gcpのコンソールから`vertex AI >> トレーニング >> CUSTOM JOBS`に遷移した後、  \n",
    "リージョンを`asia-northeast1`にして作ったjobが表示されているか確認してみてください。  \n",
    "(実行ログは該当のjobに遷移した後、`ログを表示`ボタンで確認できます。)"
   ]
  },
  {
   "cell_type": "markdown",
   "metadata": {},
   "source": [
    "これでjobを作成し、自分のマシン以外のリソースを使って実行できました。  \n",
    "上記のコマンドはjupyter上で実行する必要もないため、もちろんコマンドラインから実行しても同様に実行が可能です。\n",
    "  \n",
    "そしてパラメータを変えながら大量にjobを並列実行すれば、最適なパラメータチューニングをすることが可能になります。"
   ]
  },
  {
   "cell_type": "markdown",
   "metadata": {
    "tags": []
   },
   "source": [
    "## Vertex AIでのハイパーパラメータチューニング\n",
    "　\n",
    "各クラウドで似たような仕組みはありますが、今回はgcloudのパラメータチューニングを使用してチューニングします。"
   ]
  },
  {
   "cell_type": "code",
   "execution_count": 5,
   "metadata": {},
   "outputs": [],
   "source": [
    "## 必要に応じて書き換える\n",
    "MODEL_TYPE = \"cnn\"\n",
    "LEARNING_RATE = 0.01\n",
    "BATCH_SIZE = 64\n",
    "TRAIN_STEPS = 1000"
   ]
  },
  {
   "cell_type": "code",
   "execution_count": 6,
   "metadata": {},
   "outputs": [],
   "source": [
    "from IPython.core.magic import register_line_cell_magic\n",
    "\n",
    "## '%%writefile'にglobal変数を読みこませるカスタムマジックコマンド'%%writetemplate'を定義\n",
    "@register_line_cell_magic\n",
    "def writetemplate(line, cell):\n",
    "    with open(line, 'w') as f:\n",
    "        f.write(cell.format(**globals()))   "
   ]
  },
  {
   "cell_type": "markdown",
   "metadata": {},
   "source": [
    "最適値を探すのに、`Manual`, `Grid Search`, `Random Search`, `Baysean Search`の4つの探索方法が用意されています。  \n",
    "[詳しくはここ](https://cloud.google.com/vertex-ai/docs/reference/rest/v1/projects.locations.hyperparameterTuningJobs)や[ここ](https://cloud.google.com/vertex-ai/docs/reference/rest/v1/StudySpec)を確認してください。\n",
    "\n",
    "以下はGrid Searchを用いた例です。 \n",
    "今回はlearning_rateを最初値0.001から最大値0.3までの間を探索してみます。"
   ]
  },
  {
   "cell_type": "code",
   "execution_count": 7,
   "metadata": {},
   "outputs": [],
   "source": [
    "%%writetemplate hyperparam.yaml\n",
    "studySpec:\n",
    "  metrics:\n",
    "  - metricId: ccentropy\n",
    "    goal: MINIMIZE\n",
    "  parameters:\n",
    "  - parameterId: learning_rate\n",
    "    discreteValueSpec:\n",
    "      values: [0.001, 0.005, 0.01, 0.05, 0.1, 0.3]\n",
    "  algorithm: GRID_SEARCH\n",
    "  decayCurveStoppingSpec:\n",
    "    useElapsedDuration: True\n",
    "trialJobSpec:\n",
    "  workerPoolSpecs:\n",
    "  - machineSpec:\n",
    "      machineType: n1-standard-4\n",
    "    replicaCount: 1\n",
    "    pythonPackageSpec:\n",
    "      executorImageUri: asia-docker.pkg.dev/vertex-ai/training/tf-cpu.2-8:latest\n",
    "      packageUris: [gs://{BUCKET}/{USER}/mfashion/src/mfashion_keras-1.0.tar.gz]\n",
    "      pythonModule: mfashion_keras.task\n",
    "      args: [--output_dir, {OUTPUT_DIR}, --train_steps, \"{TRAIN_STEPS}\", --model, {MODEL_TYPE}, --batch_size, \"{BATCH_SIZE}\"]"
   ]
  },
  {
   "cell_type": "code",
   "execution_count": 8,
   "metadata": {},
   "outputs": [
    {
     "name": "stdout",
     "output_type": "stream",
     "text": [
      "running sdist\n",
      "running egg_info\n",
      "creating mfashion_keras.egg-info\n",
      "writing mfashion_keras.egg-info/PKG-INFO\n",
      "writing dependency_links to mfashion_keras.egg-info/dependency_links.txt\n",
      "writing requirements to mfashion_keras.egg-info/requires.txt\n",
      "writing top-level names to mfashion_keras.egg-info/top_level.txt\n",
      "writing manifest file 'mfashion_keras.egg-info/SOURCES.txt'\n",
      "reading manifest file 'mfashion_keras.egg-info/SOURCES.txt'\n",
      "writing manifest file 'mfashion_keras.egg-info/SOURCES.txt'\n",
      "running check\n",
      "creating mfashion_keras-1.0\n",
      "creating mfashion_keras-1.0/mfashion_estimator\n",
      "creating mfashion_keras-1.0/mfashion_keras\n",
      "creating mfashion_keras-1.0/mfashion_keras.egg-info\n",
      "copying files to mfashion_keras-1.0...\n",
      "copying setup.py -> mfashion_keras-1.0\n",
      "copying mfashion_estimator/__init__.py -> mfashion_keras-1.0/mfashion_estimator\n",
      "copying mfashion_estimator/model.py -> mfashion_keras-1.0/mfashion_estimator\n",
      "copying mfashion_estimator/task.py -> mfashion_keras-1.0/mfashion_estimator\n",
      "copying mfashion_keras/__init__.py -> mfashion_keras-1.0/mfashion_keras\n",
      "copying mfashion_keras/callback.py -> mfashion_keras-1.0/mfashion_keras\n",
      "copying mfashion_keras/model.py -> mfashion_keras-1.0/mfashion_keras\n",
      "copying mfashion_keras/task.py -> mfashion_keras-1.0/mfashion_keras\n",
      "copying mfashion_keras.egg-info/PKG-INFO -> mfashion_keras-1.0/mfashion_keras.egg-info\n",
      "copying mfashion_keras.egg-info/SOURCES.txt -> mfashion_keras-1.0/mfashion_keras.egg-info\n",
      "copying mfashion_keras.egg-info/dependency_links.txt -> mfashion_keras-1.0/mfashion_keras.egg-info\n",
      "copying mfashion_keras.egg-info/requires.txt -> mfashion_keras-1.0/mfashion_keras.egg-info\n",
      "copying mfashion_keras.egg-info/top_level.txt -> mfashion_keras-1.0/mfashion_keras.egg-info\n",
      "Writing mfashion_keras-1.0/setup.cfg\n",
      "creating dist\n",
      "Creating tar archive\n",
      "removing 'mfashion_keras-1.0' (and everything under it)\n"
     ]
    },
    {
     "name": "stderr",
     "output_type": "stream",
     "text": [
      "warning: sdist: standard file not found: should have one of README, README.rst, README.txt, README.md\n",
      "\n",
      "warning: check: missing required meta-data: url\n",
      "\n",
      "warning: check: missing meta-data: either (author and author_email) or (maintainer and maintainer_email) must be supplied\n",
      "\n",
      "Copying file://dist/mfashion_keras-1.0.tar.gz [Content-Type=application/x-tar]...\n",
      "/ [1 files][  3.1 KiB/  3.1 KiB]                                                \n",
      "Operation completed over 1 objects/3.1 KiB.                                      \n"
     ]
    }
   ],
   "source": [
    "%%bash -s \"$USER\" \"$BUCKET\"\n",
    "\n",
    "python3 setup.py sdist --formats=gztar \n",
    "gsutil cp dist/mfashion_keras-1.0.tar.gz gs://$2/$1/mfashion/src/"
   ]
  },
  {
   "cell_type": "code",
   "execution_count": 11,
   "metadata": {},
   "outputs": [
    {
     "name": "stderr",
     "output_type": "stream",
     "text": [
      "Using endpoint [https://asia-northeast1-aiplatform.googleapis.com/]\n",
      "Hyperparameter tuning job [949634998770597888] submitted successfully.\n",
      "\n",
      "Your job is still active. You may view the status of your job with the command\n",
      "\n",
      "  $ gcloud ai hp-tuning-jobs describe 949634998770597888 --region=asia-northeast1\n",
      "\n",
      "Job State: JOB_STATE_PENDING\n"
     ]
    }
   ],
   "source": [
    "%%bash -s \"$USER\" \"$REGION\" \"$MODEL_TYPE\"\n",
    "\n",
    "DATE=`date +%Y%m%d_%H%M%S`\n",
    "DISPLAY_NAME=mfashion_$3_$1_$DATE\n",
    "\n",
    "gcloud ai hp-tuning-jobs create \\\n",
    "  --region=$2 \\\n",
    "  --config=hyperparam.yaml \\\n",
    "  --display-name=${DISPLAY_NAME} \\\n",
    "  --max-trial-count=6 \\\n",
    "  --parallel-trial-count=6"
   ]
  },
  {
   "cell_type": "markdown",
   "metadata": {},
   "source": [
    "実行が確認できたら、先ほどと同じようにgcpのコンソールから`vertex AI >> トレーニング >> HYPERPARAMETER TUNING JOBS`に遷移した後、  \n",
    "リージョンを`asia-northeast1`にして作ったjobが表示されているか確認してみてください。\n",
    "\n",
    "また、今回は`ccentropy`という指標を評価に使いましたが、これを変更するにはどうすればいいのでしょうか？確認してみてください。"
   ]
  }
 ],
 "metadata": {
  "environment": {
   "kernel": "python3",
   "name": "tf2-gpu.2-8.m91",
   "type": "gcloud",
   "uri": "gcr.io/deeplearning-platform-release/tf2-gpu.2-8:m91"
  },
  "kernelspec": {
   "display_name": "Python 3",
   "language": "python",
   "name": "python3"
  },
  "language_info": {
   "codemirror_mode": {
    "name": "ipython",
    "version": 3
   },
   "file_extension": ".py",
   "mimetype": "text/x-python",
   "name": "python",
   "nbconvert_exporter": "python",
   "pygments_lexer": "ipython3",
   "version": "3.7.12"
  }
 },
 "nbformat": 4,
 "nbformat_minor": 4
}
