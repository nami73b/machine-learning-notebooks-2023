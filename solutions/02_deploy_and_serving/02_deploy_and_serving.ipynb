{
 "cells": [
  {
   "cell_type": "markdown",
   "metadata": {},
   "source": [
    "# 作成したモデルのdeployとserving\n",
    "\n",
    "01_image_classificationで作ったモデルを、Vertex AIを使ってAPIとして利用できるようにしていきます。\n",
    "\n",
    "Vertex AIでは、作成済みのモデルをuploadし、作成したendpointにそのモデルをdeployすることで、推論APIとして呼び出すことができるようになります。  \n",
    "その手順を確認していきましょう。"
   ]
  },
  {
   "cell_type": "code",
   "execution_count": null,
   "metadata": {
    "tags": []
   },
   "outputs": [],
   "source": [
    "%%bash\n",
    "\n",
    "USER=<<username>> # 自分の名前\n",
    "BUCKET=mixi-ml-handson-2022\n",
    "VERSION=001\n",
    "REGION=asia-northeast1\n",
    "\n",
    "gcloud ai models upload \\\n",
    "  --region=${REGION} \\\n",
    "  --display-name=mfashion-${USER} \\\n",
    "  --container-image-uri=asia-docker.pkg.dev/vertex-ai/prediction/tf2-cpu.2-8:latest \\\n",
    "  --artifact-uri=gs://${BUCKET}/${USER}/${VERSION}\n",
    "\n",
    "gcloud ai models list \\\n",
    "  --region=${REGION} \\\n",
    "  --filter=mfashion-${USER}\n",
    "    \n",
    "gcloud ai endpoints create \\\n",
    "  --region=${REGION} \\\n",
    "  --display-name=mfashion-${USER}"
   ]
  },
  {
   "cell_type": "markdown",
   "metadata": {},
   "source": [
    "実行が終わったら、出力されたMODEL_IDと、endpointを作成した際に出力された`ENDPOINT_ID` `・・・/asia-northeast1/endpoints/<ENDPOINT_ID>`を使って、endpointにmodelをdeployします。"
   ]
  },
  {
   "cell_type": "code",
   "execution_count": null,
   "metadata": {},
   "outputs": [],
   "source": [
    "%%bash\n",
    "\n",
    "USER=<<username>> # 自分の名前\n",
    "REGION=asia-northeast1\n",
    "MODEL_ID=<<MODEL_ID>> # 前のセルで出力されたMODEL_ID\n",
    "ENDPOINT_ID=<<ENDPOINT_ID>> # 前のセルで出力されたENDPOINT_ID\n",
    "\n",
    "gcloud ai endpoints deploy-model ${ENDPOINT_ID} \\\n",
    "  --region=${REGION} \\\n",
    "  --model=${MODEL_ID} \\\n",
    "  --display-name=mfashion-${USER}"
   ]
  },
  {
   "cell_type": "markdown",
   "metadata": {},
   "source": [
    "\n",
    "上記コードの実行には数分の時間がかかります。\n",
    "\n",
    "versionの作成が完了したら、このendpointにリクエストを投げてみましょう。"
   ]
  },
  {
   "cell_type": "code",
   "execution_count": 3,
   "metadata": {},
   "outputs": [],
   "source": [
    "from google.cloud import aiplatform\n",
    "\n",
    "def predict_json(project, endpoint, instances):    \n",
    "    region = \"asia-northeast1\"\n",
    "    aiplatform.init(project=project, location=region)\n",
    "    endpoint = aiplatform.Endpoint(endpoint)\n",
    "    response = endpoint.predict(instances=instances)\n",
    "    return response.predictions"
   ]
  },
  {
   "cell_type": "code",
   "execution_count": 4,
   "metadata": {},
   "outputs": [],
   "source": [
    "import matplotlib.pyplot as plt\n",
    "%matplotlib inline\n",
    "\n",
    "def show(n_cols, n_rows, train_orig):\n",
    "    fig, axs = plt.subplots(n_rows, n_cols, figsize=(16,4))\n",
    "    for ax, pixels in zip(axs.flat, train_orig):\n",
    "        ax.imshow(pixels, cmap=\"gray\")\n",
    "        ax.set_xticks([])\n",
    "        ax.set_yticks([])\n",
    "    plt.show()"
   ]
  },
  {
   "cell_type": "code",
   "execution_count": 5,
   "metadata": {},
   "outputs": [
    {
     "name": "stdout",
     "output_type": "stream",
     "text": [
      "Label: 'Ankle boot'  Pred: [4.78645477e-19, 3.55020421e-24, 7.70846221e-18, 1.14386904e-19, 3.3765453e-17, 9.56018598e-10, 1.80037068e-17, 1.7216123e-10, 1.19647622e-18, 1.0]\n",
      "Label: 'Pullover'  Pred: [1.03986608e-09, 4.63111128e-18, 0.999999642, 1.62839653e-12, 3.14289821e-07, 6.25233352e-21, 5.45657137e-08, 3.65233293e-26, 4.86514126e-15, 5.36797566e-21]\n",
      "Label: 'Trouser'  Pred: [1.17822892e-16, 1.0, 2.04789796e-19, 1.41438918e-17, 4.46791914e-20, 6.9127e-24, 8.98174e-16, 2.29923451e-31, 8.05248901e-19, 6.19866045e-30]\n",
      "Label: 'Trouser'  Pred: [4.94666802e-20, 1.0, 6.00059657e-22, 9.55082381e-20, 8.37960555e-23, 1.86363651e-27, 2.22079615e-17, 1.26060882e-36, 2.52838831e-22, 4.42966955e-34]\n",
      "Label: 'Shirt'  Pred: [9.03038963e-05, 2.03516782e-13, 7.32822e-06, 1.85940735e-07, 4.8813421e-05, 1.86665157e-14, 0.999853373, 4.01768406e-18, 1.00058468e-10, 3.15955554e-14]\n",
      "Label: 'Trouser'  Pred: [9.05615758e-16, 1.0, 2.15443182e-18, 6.37320957e-17, 1.39967118e-18, 5.08646657e-22, 5.6760906e-16, 5.83421958e-30, 3.08734404e-16, 9.54288176e-28]\n",
      "Label: 'Coat'  Pred: [1.01214175e-08, 1.64677701e-12, 0.00010338315, 3.39655437e-09, 0.997610211, 3.11789037e-15, 0.00228645816, 9.62286504e-19, 3.61129016e-10, 1.21972067e-13]\n",
      "Label: 'Shirt'  Pred: [1.68470888e-06, 1.17721211e-09, 0.000288898242, 5.59948489e-07, 0.0169449, 3.32918781e-09, 0.982763767, 5.34712e-12, 7.6589437e-08, 5.66488945e-09]\n"
     ]
    },
    {
     "data": {
      "image/png": "[encoded data removed]",
      "text/plain": [
       "<Figure size 1152x288 with 8 Axes>"
      ]
     },
     "metadata": {},
     "output_type": "display_data"
    }
   ],
   "source": [
    "from tensorflow.keras.datasets import fashion_mnist\n",
    "import numpy as np\n",
    "\n",
    "project_name = 'hr-mixi'\n",
    "endpoint_id = <<endpoint_id>> # 最初のセルで出力されたENDPOINT_ID\n",
    "labels = [\n",
    "    'T-shirt/top',\n",
    "    'Trouser',\n",
    "    'Pullover',\n",
    "    'Dress',\n",
    "    'Coat',\n",
    "    'Sandal',\n",
    "    'Shirt',\n",
    "    'Sneaker',\n",
    "    'Bag',\n",
    "    'Ankle boot',\n",
    "]\n",
    "\n",
    "(X_train_orig, y_train_orig), (X_test_orig, y_test_orig) = fashion_mnist.load_data()\n",
    "requests = X_test_orig[0:8]\n",
    "\n",
    "requests = np.expand_dims(requests, -1)\n",
    "requests = requests / 255.0\n",
    "requests = requests.tolist()\n",
    "\n",
    "predictions = predict_json(project_name, endpoint_id, requests)\n",
    "for i, p in enumerate(predictions):\n",
    "    print(\"Label: '{}' \".format(labels[np.argmax(p)]), \"Pred: {}\".format(p))\n",
    "show(8, 1, X_test_orig[0:8])"
   ]
  }
 ],
 "metadata": {
  "environment": {
   "kernel": "python3",
   "name": "tf2-gpu.2-8.m91",
   "type": "gcloud",
   "uri": "gcr.io/deeplearning-platform-release/tf2-gpu.2-8:m91"
  },
  "kernelspec": {
   "display_name": "Python 3",
   "language": "python",
   "name": "python3"
  },
  "language_info": {
   "codemirror_mode": {
    "name": "ipython",
    "version": 3
   },
   "file_extension": ".py",
   "mimetype": "text/x-python",
   "name": "python",
   "nbconvert_exporter": "python",
   "pygments_lexer": "ipython3",
   "version": "3.7.12"
  }
 },
 "nbformat": 4,
 "nbformat_minor": 4
}
