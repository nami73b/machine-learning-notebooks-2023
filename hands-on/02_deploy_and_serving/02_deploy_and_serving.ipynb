{
 "cells": [
  {
   "cell_type": "markdown",
   "metadata": {},
   "source": [
    "# 作成したモデルのdeployとserving\n",
    "\n",
    "01_image_classificationで作ったモデルを、Vertex AIを使ってAPIとして利用できるようにしていきます。\n",
    "\n",
    "Vertex AIでは、作成済みのモデルをuploadし、作成したendpointにそのモデルをdeployすることで、推論APIとして呼び出すことができるようになります。  \n",
    "その手順を確認していきましょう。"
   ]
  },
  {
   "cell_type": "code",
   "execution_count": null,
   "metadata": {
    "tags": []
   },
   "outputs": [],
   "source": [
    "%%bash\n",
    "\n",
    "USER=<<username>> # 自分の名前\n",
    "BUCKET=mixi-ml-handson-2022\n",
    "VERSION=001\n",
    "REGION=asia-northeast1\n",
    "\n",
    "gcloud ai models upload \\\n",
    "  --region=${REGION} \\\n",
    "  --display-name=mfashion-${USER} \\\n",
    "  --container-image-uri=asia-docker.pkg.dev/vertex-ai/prediction/tf2-cpu.2-8:latest \\\n",
    "  --artifact-uri=gs://${BUCKET}/${USER}/${VERSION}\n",
    "\n",
    "gcloud ai models list \\\n",
    "  --region=${REGION} \\\n",
    "  --filter=mfashion-${USER}\n",
    "    \n",
    "gcloud ai endpoints create \\\n",
    "  --region=${REGION} \\\n",
    "  --display-name=mfashion-${USER}"
   ]
  },
  {
   "cell_type": "markdown",
   "metadata": {},
   "source": [
    "実行が終わったら、出力された`MODEL_ID`と、endpointを作成した際に出力された`ENDPOINT_ID` `'・・・/asia-northeast1/endpoints/<ENDPOINT_ID>'`を使って、endpointにmodelをdeployします。"
   ]
  },
  {
   "cell_type": "code",
   "execution_count": null,
   "metadata": {},
   "outputs": [],
   "source": [
    "%%bash\n",
    "\n",
    "USER=<<username>> # 自分の名前\n",
    "REGION=asia-northeast1\n",
    "MODEL_ID=<<model_id>> # 前のセルで出力されたMODEL_ID\n",
    "ENDPOINT_ID=<<endpoint_id>> # 前のセルで出力されたENDPOINT_ID\n",
    "\n",
    "gcloud ai endpoints deploy-model ${ENDPOINT_ID} \\\n",
    "  --region=${REGION} \\\n",
    "  --model=${MODEL_ID} \\\n",
    "  --display-name=mfashion-${USER} \\\n",
    "  --traffic-split=0=100"
   ]
  },
  {
   "cell_type": "markdown",
   "metadata": {},
   "source": [
    "上記コードの実行には数分の時間がかかります。\n",
    "\n",
    "deployが完了したら、このendpointにリクエストを投げてみましょう。"
   ]
  },
  {
   "cell_type": "code",
   "execution_count": null,
   "metadata": {},
   "outputs": [],
   "source": [
    "from google.cloud import aiplatform\n",
    "\n",
    "def predict_json(project, endpoint, instances):    \n",
    "    region = \"asia-northeast1\"\n",
    "    aiplatform.init(project=project, location=region)\n",
    "    endpoint = aiplatform.Endpoint(endpoint)\n",
    "    response = endpoint.predict(instances=instances)\n",
    "    return response.predictions"
   ]
  },
  {
   "cell_type": "code",
   "execution_count": null,
   "metadata": {},
   "outputs": [],
   "source": [
    "import matplotlib.pyplot as plt\n",
    "%matplotlib inline\n",
    "\n",
    "def show(n_cols, n_rows, train_orig):\n",
    "    fig, axs = plt.subplots(n_rows, n_cols, figsize=(16,4))\n",
    "    for ax, pixels in zip(axs.flat, train_orig):\n",
    "        ax.imshow(pixels, cmap=\"gray\")\n",
    "        ax.set_xticks([])\n",
    "        ax.set_yticks([])\n",
    "    plt.show()"
   ]
  },
  {
   "cell_type": "code",
   "execution_count": null,
   "metadata": {},
   "outputs": [],
   "source": [
    "from tensorflow.keras.datasets import fashion_mnist\n",
    "import numpy as np\n",
    "\n",
    "project_name = 'hr-mixi'\n",
    "endpoint_id = <<endpoint_id>> # 最初のセルで出力されたENDPOINT_ID\n",
    "labels = [\n",
    "    'T-shirt/top',\n",
    "    'Trouser',\n",
    "    'Pullover',\n",
    "    'Dress',\n",
    "    'Coat',\n",
    "    'Sandal',\n",
    "    'Shirt',\n",
    "    'Sneaker',\n",
    "    'Bag',\n",
    "    'Ankle boot',\n",
    "]\n",
    "\n",
    "(X_train_orig, y_train_orig), (X_test_orig, y_test_orig) = fashion_mnist.load_data()\n",
    "requests = X_test_orig[0:8]\n",
    "\n",
    "## <todo> requestsをresposeが返せる形に変換してください。\n",
    "## ヒント: 学習時と同じデータ形式にするために、01で行った前処理と同じことをする必要があります。\n",
    "requests = ___ # expandする\n",
    "requests = ___　# 正規化する\n",
    "requests = requests.tolist()\n",
    "\n",
    "predictions = predict_json(project_name, endpoint_id, ___)\n",
    "\n",
    "for i, p in enumerate(predictions):\n",
    "    print(\"Label: '{}' \".format(labels[np.argmax(p)]), \"Pred: {}\".format(p))\n",
    "show(8, 1, X_test_orig[0:8])"
   ]
  }
 ],
 "metadata": {
  "environment": {
   "kernel": "python3",
   "name": "tf2-gpu.2-8.m91",
   "type": "gcloud",
   "uri": "gcr.io/deeplearning-platform-release/tf2-gpu.2-8:m91"
  },
  "kernelspec": {
   "display_name": "Python 3",
   "language": "python",
   "name": "python3"
  },
  "language_info": {
   "codemirror_mode": {
    "name": "ipython",
    "version": 3
   },
   "file_extension": ".py",
   "mimetype": "text/x-python",
   "name": "python",
   "nbconvert_exporter": "python",
   "pygments_lexer": "ipython3",
   "version": "3.7.12"
  }
 },
 "nbformat": 4,
 "nbformat_minor": 4
}
